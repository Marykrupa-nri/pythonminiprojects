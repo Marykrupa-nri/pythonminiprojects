{
 "cells": [
  {
   "cell_type": "code",
   "execution_count": 8,
   "metadata": {},
   "outputs": [
    {
     "name": "stdout",
     "output_type": "stream",
     "text": [
      "{'write thank you letter to mom and dad': 'to do', 'help varshi with her math homework': 'done', 'meet with team to practice presentation': 'to do'}\n",
      "task deleted\n",
      "{'write thank you letter to mom and dad': 'to do', 'meet with team to practice presentation': 'to do'}\n"
     ]
    }
   ],
   "source": [
    "\n",
    "tasks = {\n",
    "    \"write thank you letter to mom and dad\": \"to do\",\n",
    "    \"help varshi with her math homework\": \"done\",\n",
    "    \"meet with team to practice presentation\": \"to do\",\n",
    "}\n",
    "\n",
    "value = input(\"Enter your action (see/add/update/delete Tasks): \")\n",
    "match value:\n",
    "    case \"see\":\n",
    "        print(tasks)\n",
    "    case \"add\":\n",
    "      task = input(\"Enter new task: \")\n",
    "      tasks[task] = \"To do\"\n",
    "      print(\"Task added.\")\n",
    "      print(tasks)\n",
    "    case \"update\":\n",
    "        print(tasks)\n",
    "        task = input(\"Enter task to update: \")\n",
    "        if task in tasks : \n",
    "            tasks[task] = input(\"Enter new description (To do/In progress/Done): \") \n",
    "        else:\n",
    "            print(\"Task not found.\")\n",
    "        print(tasks)\n",
    "    case \"delete\":\n",
    "        print(tasks)\n",
    "        task = input(\"Enter task to delete: \")\n",
    "        a=tasks.pop(task,None)\n",
    "        if a is None:\n",
    "            print(\"task not Found\")\n",
    "        else:\n",
    "            print(\"task deleted\")\n",
    "        print(tasks)\n",
    "\n"
   ]
  }
 ],
 "metadata": {
  "kernelspec": {
   "display_name": "Python 3",
   "language": "python",
   "name": "python3"
  },
  "language_info": {
   "codemirror_mode": {
    "name": "ipython",
    "version": 3
   },
   "file_extension": ".py",
   "mimetype": "text/x-python",
   "name": "python",
   "nbconvert_exporter": "python",
   "pygments_lexer": "ipython3",
   "version": "3.10.11"
  }
 },
 "nbformat": 4,
 "nbformat_minor": 2
}
